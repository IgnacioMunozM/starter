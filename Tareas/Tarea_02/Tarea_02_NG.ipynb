{
  "nbformat": 4,
  "nbformat_minor": 0,
  "metadata": {
    "colab": {
      "provenance": []
    },
    "kernelspec": {
      "name": "python3",
      "display_name": "Python 3"
    },
    "language_info": {
      "name": "python"
    }
  },
  "cells": [
    {
      "cell_type": "markdown",
      "source": [
        "# Tarea 2 Narración Grafica"
      ],
      "metadata": {
        "id": "dq6XGhgf9wEN"
      }
    },
    {
      "cell_type": "markdown",
      "source": [
        "## Problema 1"
      ],
      "metadata": {
        "id": "peopCDwe-A9W"
      }
    },
    {
      "cell_type": "code",
      "source": [
        "variable = -101\n",
        "while(variable < 200):\n",
        "  variable = variable + 1\n",
        "  print(variable)"
      ],
      "metadata": {
        "id": "9sektNB_-YL4"
      },
      "execution_count": null,
      "outputs": []
    },
    {
      "cell_type": "markdown",
      "source": [
        "En el problema lo que hice fue darle la instrucción de que partiera desde -101 con variable = -101. Luego para que no se formara un loop infinito le pedí que parara en antes de 200. Después, le indiqué que variable era variable + 1, para que vaya sumando una unidad a cada resultado y así ir aumentando desde -100 (-101+1) hasta 200 (199+1). Finalmente le dije que imprimiera los números."
      ],
      "metadata": {
        "id": "uioh9f1CMtJr"
      }
    },
    {
      "cell_type": "markdown",
      "source": [
        "## Problema 2"
      ],
      "metadata": {
        "id": "NVAq3G_X_Rhm"
      }
    },
    {
      "cell_type": "code",
      "source": [
        "variable = -101\n",
        "while(variable < 200):\n",
        "  variable = variable + 1\n",
        "  if variable % 6 == 0:\n",
        "    print(variable)"
      ],
      "metadata": {
        "id": "6IJPzHVcARUg"
      },
      "execution_count": null,
      "outputs": []
    },
    {
      "cell_type": "markdown",
      "source": [
        "En el problema 2, lo que hice fue utilizar las mismas instrucciones que el uno para que el programa tomara en cuenta los numeros desde -100 y 200. A eso le agregué una condición. Con if variable % 6 == 0, le pedí que tomara en cuenta cuando se cumpliera la condición de que el numero es divisible por 6. Finalmente le dije que imprimiera los números que cumplian la condición."
      ],
      "metadata": {
        "id": "tEwCVpNJN-_e"
      }
    },
    {
      "cell_type": "markdown",
      "source": [
        "## Problema 3"
      ],
      "metadata": {
        "id": "pfA5uAdpBare"
      }
    },
    {
      "cell_type": "code",
      "source": [
        "número_1 = float(input(\"Ingresar un número 1\"))\n",
        "número_2 = float(input(\"Ingresar un número 2\"))\n",
        "\n",
        "suma = número_1 + número_2\n",
        "\n",
        "print(suma)\n",
        "\n",
        "if(suma < 200):\n",
        "  print(\"Menor a 200\")\n",
        "elif(200 < suma < 250):\n",
        "  print(\"Mayor a 200\")\n",
        "if(250 < suma):\n",
        "  print(\"Mayor a 250\")"
      ],
      "metadata": {
        "id": "bIGp6HeKBdsc"
      },
      "execution_count": null,
      "outputs": []
    },
    {
      "cell_type": "markdown",
      "source": [
        "En el problema 3 lo que hice fue primero, indicarle que iba a trabajar con dos datos númericos: número_1 y número_2. Con el input le pido que me de la opción de ingresar los números para que trabaje con ellos cada vez que los ingrese, pudiendo ser distintos cada vez que se ingresan. Luego le pido que los sume con suma = ... . Luego le pido que imprima la suma. Como último paso, use la condicional if y elif. Le pedi que si la suma era menos que 200 dejara un mensaje, si era mayor a 200 otro y si eres mayor a 250 otro. Yo escribo el mensaje que deseo que imprima abriendo comillas \"\" en el parentesis del print()."
      ],
      "metadata": {
        "id": "S0SUa-flOw_m"
      }
    },
    {
      "cell_type": "markdown",
      "source": [
        "## Problema 4"
      ],
      "metadata": {
        "id": "CIK59qK2Glhp"
      }
    },
    {
      "cell_type": "code",
      "source": [
        "edad = float((input(\"Ingrese su edad\")))\n",
        "gusto = input(\"¿Le gusta la música urbana? Si/No\")\n",
        "\n",
        "if(edad >= 18 and gusto == \"Si\"):\n",
        "  print(\"Eres mayor de edad y te gusta la música urbana\")\n",
        "\n",
        "elif(edad < 18 and gusto == \"Si\"):\n",
        "  print(\"Eres menor de edad y te gusta la música urbana\")\n",
        "\n",
        "if(edad >= 18 and gusto == \"No\"):\n",
        "  print(\"Eres mayor de edad y no te gusta a la música urbana\")\n",
        "\n",
        "elif(edad < 18 and gusto == \"No\"):\n",
        "  print(\"Eres menor de edad y no te gusta la música urbana\")\n"
      ],
      "metadata": {
        "id": "rWxnKeg3Gnrv"
      },
      "execution_count": null,
      "outputs": []
    },
    {
      "cell_type": "markdown",
      "source": [
        "En el último problema, trabaje parecido al anterior. Usé input para ingresar datos que pueden cambiar dependiendo del usuario y también condicionales con if y elif. Lo distinto es que combiné dato numerico (lo identifico con float) y dato cualitativo. A cada caso le asigné una respuesta acorde."
      ],
      "metadata": {
        "id": "vUzkhI3aQVw6"
      }
    }
  ]
}